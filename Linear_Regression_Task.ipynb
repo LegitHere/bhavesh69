{
 "cells": [
  {
   "cell_type": "code",
   "execution_count": null,
   "id": "a8c29c2f-c190-4ab5-a2b0-21d2c85e7dd9",
   "metadata": {},
   "outputs": [],
   "source": [
    "import pandas as pd\n",
    "import numpy as np\n",
    "from sklearn import linear_model\n",
    "import matplotlib.pyplot as plt"
   ]
  },
  {
   "cell_type": "code",
   "execution_count": null,
   "id": "3b888fb2-75dc-4396-bd40-4a9487f4ea55",
   "metadata": {},
   "outputs": [],
   "source": [
    " df = pd.read_csv('C:\\\\Users\\\\HP\\\\Documents\\\\Linear_Regression_Task.ipynb')"
   ]
  },
  {
   "cell_type": "code",
   "execution_count": null,
   "id": "97656b00-577f-4de4-ba8a-bf50bf86ad7b",
   "metadata": {},
   "outputs": [],
   "source": [
    "%matplotlib inline\n",
    "plt.xlabel('year')\n",
    "plt.ylabel('per_capita_income')\n",
    "plt.scatter(df.year,df.per_capita_income,color='Green',marker='*')\n",
    "plt.show()"
   ]
  },
  {
   "cell_type": "code",
   "execution_count": null,
   "id": "21cfd015-86b9-434c-a203-dc4bb92138e0",
   "metadata": {},
   "outputs": [],
   "source": [
    "df.head()"
   ]
  },
  {
   "cell_type": "code",
   "execution_count": null,
   "id": "9a970df9-4ef3-43bd-a1e7-15d3b0921cd4",
   "metadata": {},
   "outputs": [],
   "source": [
    "new_df=df.drop('per_capita_income',axis='columns')\n",
    "new_df"
   ]
  },
  {
   "cell_type": "code",
   "execution_count": null,
   "id": "8fed51cb-2d74-47aa-b0f7-4d4a3229eee8",
   "metadata": {},
   "outputs": [],
   "source": [
    "price=df.per_capita_income\n",
    "price"
   ]
  },
  {
   "cell_type": "code",
   "execution_count": null,
   "id": "aad9d712-2c71-4368-abdb-153fa322f87d",
   "metadata": {},
   "outputs": [],
   "source": [
    "# Create Linear Regression Object\n",
    "reg=linear_model.LinearRegression()\n",
    "reg.fit(new_df,price)"
   ]
  },
  {
   "cell_type": "code",
   "execution_count": null,
   "id": "71a408c1-6324-480f-af3d-bf05d6fa0c7f",
   "metadata": {},
   "outputs": [],
   "source": [
    "reg.predict([[35000]])"
   ]
  },
  {
   "cell_type": "code",
   "execution_count": null,
   "id": "bf4971d6-5e04-4dd8-ba50-764457c1b38d",
   "metadata": {},
   "outputs": [],
   "source": [
    "reg.coef_"
   ]
  },
  {
   "cell_type": "code",
   "execution_count": null,
   "id": "79d1da9b-88ef-4d36-9931-23d752b6854b",
   "metadata": {},
   "outputs": [],
   "source": [
    "reg.intercept_"
   ]
  },
  {
   "cell_type": "code",
   "execution_count": null,
   "id": "57fcc2c7-b5ab-4ffe-bfc0-24cd5df5b6af",
   "metadata": {},
   "outputs": [],
   "source": []
  }
 ],
 "metadata": {
  "kernelspec": {
   "display_name": "Python [conda env:base] *",
   "language": "python",
   "name": "conda-base-py"
  },
  "language_info": {
   "codemirror_mode": {
    "name": "ipython",
    "version": 3
   },
   "file_extension": ".py",
   "mimetype": "text/x-python",
   "name": "python",
   "nbconvert_exporter": "python",
   "pygments_lexer": "ipython3",
   "version": "3.12.7"
  }
 },
 "nbformat": 4,
 "nbformat_minor": 5
}
